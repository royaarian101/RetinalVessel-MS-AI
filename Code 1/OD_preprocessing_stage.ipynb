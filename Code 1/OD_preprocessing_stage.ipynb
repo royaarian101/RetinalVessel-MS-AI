{
 "cells": [
  {
   "cell_type": "markdown",
   "id": "002101f8",
   "metadata": {},
   "source": [
    "this is  a code for OD pre-processing stage"
   ]
  },
  {
   "cell_type": "code",
   "execution_count": 1,
   "id": "4579f9ac",
   "metadata": {},
   "outputs": [],
   "source": [
    "import numpy as np\n",
    "import os\n",
    "import cv2\n",
    "from matplotlib import pyplot as plt\n",
    "from skimage import exposure \n",
    "from skimage.exposure import match_histograms \n",
    "from skimage.morphology import (erosion, dilation, closing, opening)\n",
    "from PIL import Image\n",
    "from skimage.feature import canny\n",
    "\n",
    "from skimage.transform import hough_ellipse\n",
    "from skimage.draw import ellipse_perimeter\n",
    "from skimage.draw import circle_perimeter\n",
    "from skimage import color, img_as_ubyte\n",
    "import skimage\n",
    "from skimage import measure\n",
    "from skimage import io, morphology\n",
    "from scipy.spatial import distance\n",
    "from skimage.feature import blob_dog, blob_log, blob_doh\n",
    "from math import sqrt"
   ]
  },
  {
   "cell_type": "code",
   "execution_count": 2,
   "id": "a23b070e",
   "metadata": {},
   "outputs": [],
   "source": [
    "from load_images import load_images_from_folder\n",
    "from OD_preprocess import pre_processing"
   ]
  },
  {
   "cell_type": "code",
   "execution_count": 3,
   "id": "518edac9",
   "metadata": {},
   "outputs": [],
   "source": [
    "def show_images(images) :\n",
    "    n: int = len(images)\n",
    "    f = plt.figure()\n",
    "    for i in range(n):\n",
    "        # Debug, plot figure\n",
    "        f.add_subplot(1, n, i + 1)\n",
    "        plt.imshow(images[i],cmap='gray', vmin=0, vmax=255)\n",
    "\n",
    "    plt.show()"
   ]
  },
  {
   "cell_type": "code",
   "execution_count": 3,
   "id": "1162b68d",
   "metadata": {},
   "outputs": [],
   "source": [
    "### loading data\n",
    "data_path='./all/'\n",
    "images,images_name=load_images_from_folder(data_path)"
   ]
  },
  {
   "cell_type": "code",
   "execution_count": 7,
   "id": "661dbeb3",
   "metadata": {},
   "outputs": [],
   "source": [
    "### OD pre-processing stage\n",
    "save_path1='./preprocessed_OD/'#\n",
    "if not os.path.exists(save_path1):\n",
    "        os.makedirs(save_path1)\n",
    "###reference image: Enter the name of reference image        \n",
    "img_ref_name='bestar_ahang_a_139_0.OD' \n",
    "kernel=cv2.getStructuringElement(cv2.MORPH_RECT,(7,7))\n",
    "index_ref,im_inverted,im_matched,im_preprcessed=pre_processing(images,img_ref_name,images_name,save_path1,kernel)\n"
   ]
  }
 ],
 "metadata": {
  "kernelspec": {
   "display_name": "Python 3 (ipykernel)",
   "language": "python",
   "name": "python3"
  },
  "language_info": {
   "codemirror_mode": {
    "name": "ipython",
    "version": 3
   },
   "file_extension": ".py",
   "mimetype": "text/x-python",
   "name": "python",
   "nbconvert_exporter": "python",
   "pygments_lexer": "ipython3",
   "version": "3.12.0"
  }
 },
 "nbformat": 4,
 "nbformat_minor": 5
}
