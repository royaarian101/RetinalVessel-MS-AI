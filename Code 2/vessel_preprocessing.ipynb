{
 "cells": [
  {
   "cell_type": "markdown",
   "id": "108ac65a",
   "metadata": {},
   "source": [
    "code for vessel pre-processing"
   ]
  },
  {
   "cell_type": "code",
   "execution_count": 1,
   "id": "b25221a8",
   "metadata": {},
   "outputs": [],
   "source": [
    "import numpy as np\n",
    "import os\n",
    "import cv2\n",
    "from matplotlib import pyplot as plt\n",
    "from skimage import exposure \n",
    "from skimage.exposure import match_histograms \n",
    "from PIL import Image"
   ]
  },
  {
   "cell_type": "code",
   "execution_count": 6,
   "id": "d2fa81e6",
   "metadata": {},
   "outputs": [],
   "source": [
    "from load_images import load_images_from_folder\n",
    "from pre_processing import pre_process_vessel"
   ]
  },
  {
   "cell_type": "code",
   "execution_count": 7,
   "id": "78c929ad",
   "metadata": {},
   "outputs": [],
   "source": [
    "def show_images(images):\n",
    "    n: int = len(images)\n",
    "    f = plt.figure()\n",
    "    for i in range(n):\n",
    "        # Debug, plot figure\n",
    "        f.add_subplot(1, n, i + 1)\n",
    "        plt.imshow(images[i],cmap='gray', vmin=0, vmax=255)\n",
    "\n",
    "    plt.show(block=True)"
   ]
  },
  {
   "cell_type": "code",
   "execution_count": 4,
   "id": "92595107",
   "metadata": {},
   "outputs": [],
   "source": [
    "###loading data\n",
    "data_path='./all/'\n",
    "images,images_name=load_images_from_folder(data_path)"
   ]
  },
  {
   "cell_type": "code",
   "execution_count": 8,
   "id": "d09a43dc",
   "metadata": {},
   "outputs": [],
   "source": [
    "####preprocessing step: emter the name of reference image\n",
    "img_ref='lotfi_m_268_0.OS'\n",
    "path_pre_process='./vessel_preprocessed/'\n",
    "if not os.path.exists(path_pre_process):\n",
    "        os.makedirs(path_pre_process)\n",
    "\n",
    "index_ref,img_process=pre_process_vessel(images,img_ref,images_name,path_pre_process)"
   ]
  }
 ],
 "metadata": {
  "kernelspec": {
   "display_name": "Python 3 (ipykernel)",
   "language": "python",
   "name": "python3"
  },
  "language_info": {
   "codemirror_mode": {
    "name": "ipython",
    "version": 3
   },
   "file_extension": ".py",
   "mimetype": "text/x-python",
   "name": "python",
   "nbconvert_exporter": "python",
   "pygments_lexer": "ipython3",
   "version": "3.12.0"
  }
 },
 "nbformat": 4,
 "nbformat_minor": 5
}
